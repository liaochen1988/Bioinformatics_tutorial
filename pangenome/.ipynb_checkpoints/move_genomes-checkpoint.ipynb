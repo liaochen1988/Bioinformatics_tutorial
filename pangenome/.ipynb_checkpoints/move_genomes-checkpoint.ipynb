{
 "cells": [
  {
   "cell_type": "code",
   "execution_count": 1,
   "id": "713c9e58-f89e-4689-b1fa-6c7843192b12",
   "metadata": {},
   "outputs": [],
   "source": [
    "import os\n",
    "import pandas as pd"
   ]
  },
  {
   "cell_type": "code",
   "execution_count": 3,
   "id": "65417e5f-f79f-4ff3-959e-a108da2615f7",
   "metadata": {},
   "outputs": [
    {
     "name": "stdout",
     "output_type": "stream",
     "text": [
      "found 29 Bacteroides uniformis genomes\n"
     ]
    }
   ],
   "source": [
    "df = pd.read_csv(\"../../Bacterial_fungi_interactions_MSK/Genomes/taxonomy_CL.csv\")\n",
    "df = df[(df.gtdb_taxonomy.notnull()) & (df.gtdb_taxonomy.str.contains(\"Bacteroides uniformis\"))]\n",
    "print(\"found %d Bacteroides uniformis genomes\"%(len(df)))"
   ]
  },
  {
   "cell_type": "code",
   "execution_count": 4,
   "id": "1b61e915-f440-4651-a873-a45617776f30",
   "metadata": {},
   "outputs": [],
   "source": [
    "for uid, acc in zip(df.unique_id, df.accession):\n",
    "    os.system(\"cp ../../Bacterial_fungi_interactions_MSK/Genomes/prokka/%s/%s.gff gff/%s.gff\"%(acc, acc, uid))"
   ]
  },
  {
   "cell_type": "code",
   "execution_count": null,
   "id": "9a07a6bd-b5dd-4990-8f6e-9352744be162",
   "metadata": {},
   "outputs": [],
   "source": []
  }
 ],
 "metadata": {
  "kernelspec": {
   "display_name": "Python 3 (ipykernel)",
   "language": "python",
   "name": "python3"
  },
  "language_info": {
   "codemirror_mode": {
    "name": "ipython",
    "version": 3
   },
   "file_extension": ".py",
   "mimetype": "text/x-python",
   "name": "python",
   "nbconvert_exporter": "python",
   "pygments_lexer": "ipython3",
   "version": "3.9.12"
  }
 },
 "nbformat": 4,
 "nbformat_minor": 5
}
